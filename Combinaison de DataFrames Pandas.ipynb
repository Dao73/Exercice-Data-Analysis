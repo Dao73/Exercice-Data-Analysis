{
 "cells": [
  {
   "cell_type": "code",
   "execution_count": 3,
   "id": "d2ff4db2-43c2-4c00-ad33-148f8fa62e12",
   "metadata": {},
   "outputs": [
    {
     "name": "stdout",
     "output_type": "stream",
     "text": [
      "   UNIT     DATEn  hour  ENTRIESn    EXITSn   latitude  longitude  pressurei  \\\n",
      "0  R003  05-01-11     0   4388333   2911002  40.689945 -73.872564      30.24   \n",
      "1  R003  05-02-11     0   4388348   2911036  40.689945 -73.872564      30.32   \n",
      "2  R003  05-03-11     0   4389885   2912127  40.689945 -73.872564      30.14   \n",
      "3  R003  05-04-11     0   4391507   2913223  40.689945 -73.872564      29.98   \n",
      "4  R003  05-05-11     0   4393043   2914284  40.689945 -73.872564      30.01   \n",
      "5  R004  05-01-11     0  14656120  14451774  40.691320 -73.867135      30.24   \n",
      "6  R004  05-02-11     0  14656174  14451851  40.691320 -73.867135      30.32   \n",
      "7  R004  05-03-11     0  14660126  14454734  40.691320 -73.867135      30.14   \n",
      "8  R004  05-04-11     0  14664247  14457780  40.691320 -73.867135      29.98   \n",
      "9  R004  05-05-11     0  14668301  14460818  40.691320 -73.867135      30.01   \n",
      "\n",
      "   fog  rain  tempi  wspdi  \n",
      "0    0     0   52.0    8.1  \n",
      "1    0     0   48.9    6.9  \n",
      "2    0     0   54.0    3.5  \n",
      "3    0     0   57.2   15.0  \n",
      "4    0     0   48.9   15.0  \n",
      "5    0     0   52.0    8.1  \n",
      "6    0     0   48.9    6.9  \n",
      "7    0     0   54.0    3.5  \n",
      "8    0     0   57.2   15.0  \n",
      "9    0     0   48.9   15.0  \n"
     ]
    }
   ],
   "source": [
    "import pandas as pd\n",
    "\n",
    "# Définition du DataFrame subway_df\n",
    "subway_df = pd.DataFrame({\n",
    "    'UNIT': ['R003', 'R003', 'R003', 'R003', 'R003', 'R004', 'R004', 'R004',\n",
    "             'R004', 'R004'],\n",
    "    'DATEn': ['05-01-11', '05-02-11', '05-03-11', '05-04-11', '05-05-11',\n",
    "              '05-01-11', '05-02-11', '05-03-11', '05-04-11', '05-05-11'],\n",
    "    'hour': [0, 0, 0, 0, 0, 0, 0, 0, 0, 0],\n",
    "    'ENTRIESn': [ 4388333,  4388348,  4389885,  4391507,  4393043, 14656120,\n",
    "                 14656174, 14660126, 14664247, 14668301],\n",
    "    'EXITSn': [ 2911002,  2911036,  2912127,  2913223,  2914284, 14451774,\n",
    "               14451851, 14454734, 14457780, 14460818],\n",
    "    'latitude': [ 40.689945,  40.689945,  40.689945,  40.689945,  40.689945,\n",
    "                  40.69132 ,  40.69132 ,  40.69132 ,  40.69132 ,  40.69132 ],\n",
    "    'longitude': [-73.872564, -73.872564, -73.872564, -73.872564, -73.872564,\n",
    "                  -73.867135, -73.867135, -73.867135, -73.867135, -73.867135]\n",
    "})\n",
    "\n",
    "# Définition du DataFrame weather_df\n",
    "weather_df = pd.DataFrame({\n",
    "    'DATEn': ['05-01-11', '05-01-11', '05-02-11', '05-02-11', '05-03-11',\n",
    "              '05-03-11', '05-04-11', '05-04-11', '05-05-11', '05-05-11'],\n",
    "    'hour': [0, 0, 0, 0, 0, 0, 0, 0, 0, 0],\n",
    "    'latitude': [ 40.689945,  40.69132 ,  40.689945,  40.69132 ,  40.689945,\n",
    "                  40.69132 ,  40.689945,  40.69132 ,  40.689945,  40.69132 ],\n",
    "    'longitude': [-73.872564, -73.867135, -73.872564, -73.867135, -73.872564,\n",
    "                  -73.867135, -73.872564, -73.867135, -73.872564, -73.867135],\n",
    "    'pressurei': [ 30.24,  30.24,  30.32,  30.32,  30.14,  30.14,  29.98,  29.98,\n",
    "                   30.01,  30.01],\n",
    "    'fog': [0, 0, 0, 0, 0, 0, 0, 0, 0, 0],\n",
    "    'rain': [0, 0, 0, 0, 0, 0, 0, 0, 0, 0],\n",
    "    'tempi': [ 52. ,  52. ,  48.9,  48.9,  54. ,  54. ,  57.2,  57.2,  48.9,  48.9],\n",
    "    'wspdi': [  8.1,   8.1,   6.9,   6.9,   3.5,   3.5,  15. ,  15. ,  15. ,  15. ]\n",
    "})\n",
    "\n",
    "# Définition de la fonction combine_dfs\n",
    "def combine_dfs(subway_df, weather_df):\n",
    "    '''\n",
    "    Fusionne deux DataFrames, un avec les données du métro et un avec les données météorologiques,\n",
    "    et retourne un seul DataFrame avec une ligne pour chaque date, heure et emplacement. Incluez uniquement\n",
    "    les heures et les emplacements pour lesquels des données du métro et des données météorologiques sont disponibles.\n",
    "    '''\n",
    "    # Fusionner les deux DataFrames sur les colonnes communes\n",
    "    combined_df = pd.merge(subway_df, weather_df, on=['DATEn', 'hour', 'latitude', 'longitude'], how='inner')\n",
    "    return combined_df\n",
    "\n",
    "# Appel de la fonction combine_dfs avec les DataFrames en entrée\n",
    "result_df = combine_dfs(subway_df, weather_df)\n",
    "\n",
    "# Afficher le DataFrame résultant\n",
    "print(result_df)\n"
   ]
  },
  {
   "cell_type": "code",
   "execution_count": null,
   "id": "166567b2-90f0-4fe3-84ec-8eb1c49756b9",
   "metadata": {},
   "outputs": [],
   "source": []
  }
 ],
 "metadata": {
  "kernelspec": {
   "display_name": "Python 3 (ipykernel)",
   "language": "python",
   "name": "python3"
  },
  "language_info": {
   "codemirror_mode": {
    "name": "ipython",
    "version": 3
   },
   "file_extension": ".py",
   "mimetype": "text/x-python",
   "name": "python",
   "nbconvert_exporter": "python",
   "pygments_lexer": "ipython3",
   "version": "3.11.5"
  }
 },
 "nbformat": 4,
 "nbformat_minor": 5
}
