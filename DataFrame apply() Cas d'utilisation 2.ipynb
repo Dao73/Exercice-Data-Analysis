{
 "cells": [
  {
   "cell_type": "code",
   "execution_count": 3,
   "id": "79efb7cf-0fd4-4460-8d47-de8eb2de51b0",
   "metadata": {},
   "outputs": [],
   "source": [
    "import numpy as np\n",
    "import pandas as pd\n",
    "\n",
    "df = pd.DataFrame({\n",
    "    'a': [4, 5, 3, 1, 2],\n",
    "    'b': [20, 10, 40, 50, 30],\n",
    "    'c': [25, 20, 5, 15, 10]\n",
    "})\n",
    "\n",
    "# Change False to True for this block of code to see what it does\n",
    "\n",
    "def second_largest(df):\n",
    "    # Function to find the second largest value in a single column\n",
    "    def find_second_largest(col):\n",
    "        # Sort the column in descending order and return the second value\n",
    "        sorted_col = col.sort_values(ascending=False)\n",
    "        return sorted_col.iloc[1]\n",
    "    \n",
    "    # Apply the find_second_largest function to each column of the DataFrame\n",
    "    return df.apply(find_second_largest)"
   ]
  },
  {
   "cell_type": "code",
   "execution_count": 4,
   "id": "2c12eb79-34ae-4f2c-8e08-5c4531e281ba",
   "metadata": {},
   "outputs": [
    {
     "name": "stdout",
     "output_type": "stream",
     "text": [
      "a     3.0\n",
      "b    30.0\n",
      "c    15.0\n",
      "dtype: float64\n",
      "a     5\n",
      "b    50\n",
      "c    25\n",
      "dtype: int64\n"
     ]
    }
   ],
   "source": [
    "# DataFrame apply() - use case 2\n",
    "if True:   \n",
    "    print (df.apply(np.mean))\n",
    "    print (df.apply(np.max))\n",
    "    "
   ]
  }
 ],
 "metadata": {
  "kernelspec": {
   "display_name": "Python 3 (ipykernel)",
   "language": "python",
   "name": "python3"
  },
  "language_info": {
   "codemirror_mode": {
    "name": "ipython",
    "version": 3
   },
   "file_extension": ".py",
   "mimetype": "text/x-python",
   "name": "python",
   "nbconvert_exporter": "python",
   "pygments_lexer": "ipython3",
   "version": "3.11.5"
  }
 },
 "nbformat": 4,
 "nbformat_minor": 5
}
