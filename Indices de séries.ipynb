{
 "cells": [
  {
   "cell_type": "code",
   "execution_count": 1,
   "id": "53384502-a735-4a70-ab90-f6d5a2828a09",
   "metadata": {},
   "outputs": [
    {
     "name": "stdout",
     "output_type": "stream",
     "text": [
      "('Angola', 75.69999695)\n"
     ]
    }
   ],
   "source": [
    "import pandas as pd\n",
    "\n",
    "countries = [\n",
    "    'Afghanistan', 'Albanie', 'Algérie', 'Angola',\n",
    "    'Argentine', 'Arménie', 'Australie', 'Autriche',\n",
    "    'Azerbaïdjan', 'Bahamas', 'Bahreïn', 'Bangladesh',\n",
    "    'Barbade', 'Biélorussie', 'Belgique', 'Belize',\n",
    "    'Bénin', 'Bhoutan', 'Bolivie', 'Bosnie-Herzégovine',\n",
    "]\n",
    "\n",
    "employment_values = [\n",
    "    55.70000076,  51.40000153,  50.5       ,  75.69999695,\n",
    "    58.40000153,  40.09999847,  61.5       ,  57.09999847,\n",
    "    60.90000153,  66.59999847,  60.40000153,  68.09999847,\n",
    "    66.90000153,  53.40000153,  48.59999847,  56.79999924,\n",
    "    71.59999847,  58.40000153,  70.40000153,  41.20000076,\n",
    "]\n",
    "\n",
    "# Données sur l'emploi en 2007 pour 20 pays\n",
    "emploi = pd.Series(employment_values, index=countries)\n",
    "\n",
    "def max_employment(emploi):\n",
    "  \n",
    "    pays_max = emploi.idxmax()      # Remplacez ceci avec votre code\n",
    "    emploi_max = emploi[pays_max]   # Remplacez ceci avec votre code\n",
    "\n",
    "    return (pays_max, emploi_max)\n",
    "\n",
    "# Test de la fonction\n",
    "print(max_employment(emploi))\n"
   ]
  },
  {
   "cell_type": "code",
   "execution_count": 2,
   "id": "e4808a74-22b1-4544-87eb-15799105ae7e",
   "metadata": {},
   "outputs": [
    {
     "name": "stdout",
     "output_type": "stream",
     "text": [
      "Afghanistan           55.700001\n",
      "Albanie               51.400002\n",
      "Algérie               50.500000\n",
      "Angola                75.699997\n",
      "Argentine             58.400002\n",
      "Arménie               40.099998\n",
      "Australie             61.500000\n",
      "Autriche              57.099998\n",
      "Azerbaïdjan           60.900002\n",
      "Bahamas               66.599998\n",
      "Bahreïn               60.400002\n",
      "Bangladesh            68.099998\n",
      "Barbade               66.900002\n",
      "Biélorussie           53.400002\n",
      "Belgique              48.599998\n",
      "Belize                56.799999\n",
      "Bénin                 71.599998\n",
      "Bhoutan               58.400002\n",
      "Bolivie               70.400002\n",
      "Bosnie-Herzégovine    41.200001\n",
      "dtype: float64\n"
     ]
    }
   ],
   "source": [
    "print(pd.Series(employment_values, index=countries))\n"
   ]
  },
  {
   "cell_type": "code",
   "execution_count": null,
   "id": "17934562-5d56-456c-b042-646e9c07ae60",
   "metadata": {},
   "outputs": [],
   "source": []
  }
 ],
 "metadata": {
  "kernelspec": {
   "display_name": "Python 3 (ipykernel)",
   "language": "python",
   "name": "python3"
  },
  "language_info": {
   "codemirror_mode": {
    "name": "ipython",
    "version": 3
   },
   "file_extension": ".py",
   "mimetype": "text/x-python",
   "name": "python",
   "nbconvert_exporter": "python",
   "pygments_lexer": "ipython3",
   "version": "3.11.5"
  }
 },
 "nbformat": 4,
 "nbformat_minor": 5
}
