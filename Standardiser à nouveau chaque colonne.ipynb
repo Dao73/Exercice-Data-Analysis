{
 "cells": [
  {
   "cell_type": "code",
   "execution_count": 2,
   "id": "4f48fc32-5759-4bda-93f0-3794f0c8ba2c",
   "metadata": {},
   "outputs": [
    {
     "name": "stdout",
     "output_type": "stream",
     "text": [
      "DataFrame original :\n",
      "    0   1\n",
      "0  95  94\n",
      "1  85  84\n",
      "2  75  74\n",
      "3  65  64\n",
      "4  55  54\n",
      "\n",
      "DataFrame standardisé :\n",
      "          0         1\n",
      "0  1.414214  1.414214\n",
      "1  0.707107  0.707107\n",
      "2  0.000000  0.000000\n",
      "3 -0.707107 -0.707107\n",
      "4 -1.414214 -1.414214\n"
     ]
    }
   ],
   "source": [
    "import pandas as pd\n",
    "\n",
    "def standardize(df):\n",
    "    '''\n",
    "    Fill in this function to standardize each column of the given\n",
    "    DataFrame. To standardize a variable, convert each value to the\n",
    "    number of standard deviations it is above or below the mean.\n",
    "    \n",
    "    This time, try to use vectorized operations instead of apply().\n",
    "    You should get the same results as you did before.\n",
    "    '''\n",
    "    # Calculate the mean and standard deviation of each column\n",
    "    column_means = df.mean(axis=0) # Calcul de la moyenne de chaque colonne\n",
    "    column_std = df.std(axis=0, ddof=0) # Calcul de l'écart type de chaque colonne en spécifiant ddof=0\n",
    "    \n",
    "    # Standardize each column\n",
    "    standardized_df = (df - column_means) / column_std # Standardisation des valeurs\n",
    "    \n",
    "    return standardized_df\n",
    "\n",
    "# Test avec le DataFrame donné\n",
    "df = pd.DataFrame({\n",
    "    0: [95, 85, 75, 65, 55],\n",
    "    1: [94, 84, 74, 64, 54]\n",
    "}, index=[0, 1, 2, 3, 4])\n",
    "\n",
    "print(\"DataFrame original :\")\n",
    "print(df)\n",
    "print(\"\\nDataFrame standardisé :\")\n",
    "print(standardize(df))\n"
   ]
  },
  {
   "cell_type": "code",
   "execution_count": null,
   "id": "63b4d486-9fa2-4503-aafb-e61f4d458447",
   "metadata": {},
   "outputs": [],
   "source": []
  }
 ],
 "metadata": {
  "kernelspec": {
   "display_name": "Python 3 (ipykernel)",
   "language": "python",
   "name": "python3"
  },
  "language_info": {
   "codemirror_mode": {
    "name": "ipython",
    "version": 3
   },
   "file_extension": ".py",
   "mimetype": "text/x-python",
   "name": "python",
   "nbconvert_exporter": "python",
   "pygments_lexer": "ipython3",
   "version": "3.11.5"
  }
 },
 "nbformat": 4,
 "nbformat_minor": 5
}
