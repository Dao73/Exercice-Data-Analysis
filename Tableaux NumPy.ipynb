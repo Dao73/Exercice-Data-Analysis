{
 "cells": [
  {
   "cell_type": "code",
   "execution_count": 2,
   "id": "cb905b23-b4a3-441e-94d3-e08c8d6c3d81",
   "metadata": {},
   "outputs": [
    {
     "name": "stdout",
     "output_type": "stream",
     "text": [
      "Le pays avec le taux d'emploi le plus élevé est Angola avec un taux d'emploi de 75.69999695.\n"
     ]
    }
   ],
   "source": [
    "import numpy as np\n",
    "\n",
    "# Définition des tableaux de pays et d'emploi\n",
    "countries = np.array([\n",
    "    'Afghanistan', 'Albania', 'Algeria', 'Angola', 'Argentina',\n",
    "    'Armenia', 'Australia', 'Austria', 'Azerbaijan', 'Bahamas',\n",
    "    'Bahrain', 'Bangladesh', 'Barbados', 'Belarus', 'Belgium',\n",
    "    'Belize', 'Benin', 'Bhutan', 'Bolivia',\n",
    "    'Bosnia and Herzegovina'\n",
    "])\n",
    "\n",
    "employment = np.array([\n",
    "    55.70000076,  51.40000153,  50.5       ,  75.69999695,\n",
    "    58.40000153,  40.09999847,  61.5       ,  57.09999847,\n",
    "    60.90000153,  66.59999847,  60.40000153,  68.09999847,\n",
    "    66.90000153,  53.40000153,  48.59999847,  56.79999924,\n",
    "    71.59999847,  58.40000153,  70.40000153,  41.20000076\n",
    "])\n",
    "\n",
    "# Définition de la fonction max_employment\n",
    "def max_employment(countries, employment):\n",
    "    max_country = None\n",
    "    max_value = None\n",
    "\n",
    "    # Parcourir les données d'emploi pour trouver la valeur maximale et le pays correspondant\n",
    "    for i in range(len(employment)):\n",
    "        if max_value is None or employment[i] > max_value:\n",
    "            max_country = countries[i]\n",
    "            max_value = employment[i]\n",
    "\n",
    "    return (max_country, max_value)\n",
    "\n",
    "# Utilisation de la fonction avec les données fournies\n",
    "max_country, max_value = max_employment(countries, employment)\n",
    "print(\"Le pays avec le taux d'emploi le plus élevé est {} avec un taux d'emploi de {}.\".format(max_country, max_value))\n"
   ]
  },
  {
   "cell_type": "code",
   "execution_count": null,
   "id": "d3284c1f-d568-41a6-bfe8-aea376ea86fc",
   "metadata": {},
   "outputs": [],
   "source": []
  }
 ],
 "metadata": {
  "kernelspec": {
   "display_name": "Python 3 (ipykernel)",
   "language": "python",
   "name": "python3"
  },
  "language_info": {
   "codemirror_mode": {
    "name": "ipython",
    "version": 3
   },
   "file_extension": ".py",
   "mimetype": "text/x-python",
   "name": "python",
   "nbconvert_exporter": "python",
   "pygments_lexer": "ipython3",
   "version": "3.11.5"
  }
 },
 "nbformat": 4,
 "nbformat_minor": 5
}
